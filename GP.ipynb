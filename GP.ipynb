{
 "cells": [
  {
   "cell_type": "code",
   "execution_count": null,
   "id": "fb133898-2cf4-46eb-b1a1-d408d1656889",
   "metadata": {},
   "outputs": [
    {
     "name": "stdout",
     "output_type": "stream",
     "text": [
      "Value of r:  0.5\n",
      "Value of a:  2\n",
      "Is n infinite? (y/n):  n\n",
      "Value of n:  5\n"
     ]
    }
   ],
   "source": [
    "r = float(input(\"Value of r: \"))  \n",
    "a = float(input(\"Value of a: \"))  \n",
    "infinite = input(\"Is n infinite? (y/n): \").lower()  \n",
    "\n",
    "if infinite == \"n\":\n",
    "    n = int(input(\"Value of n: \"))  \n",
    "else:\n",
    "    n = None  \n"
   ]
  },
  {
   "cell_type": "code",
   "execution_count": null,
   "id": "e0d99ae5-4bf0-4620-ab46-5c250f038fc6",
   "metadata": {},
   "outputs": [],
   "source": [
    "def gp(a, r, n, infinite):\n",
    "    if infinite == \"y\" and abs(r) < 1: \n",
    "        return a / (1 - r)\n",
    "    elif abs(r) < 1:  \n",
    "        return a * (1 - r**n) / (1 - r)\n",
    "    elif abs(r) > 1:\n",
    "        return a * ((r**n) - 1) / (r - 1)\n",
    "    elif r == 1:  \n",
    "        return a * n"
   ]
  },
  {
   "cell_type": "code",
   "execution_count": null,
   "id": "ea41f480-393e-4634-aa69-c067e09db56e",
   "metadata": {},
   "outputs": [
    {
     "name": "stdout",
     "output_type": "stream",
     "text": [
      "Sum of GP: 3.875\n"
     ]
    }
   ],
   "source": [
    "result = gp(a, r, n, infinite)\n",
    "print(\"Sum of GP:\", result)"
   ]
  },
  {
   "cell_type": "code",
   "execution_count": null,
   "id": "6dd0c3d8-0dce-4b91-8740-d62ee133ba9d",
   "metadata": {},
   "outputs": [],
   "source": []
  }
 ],
 "metadata": {
  "kernelspec": {
   "display_name": "Python 3 (ipykernel)",
   "language": "python",
   "name": "python3"
  },
  "language_info": {
   "codemirror_mode": {
    "name": "ipython",
    "version": 3
   },
   "file_extension": ".py",
   "mimetype": "text/x-python",
   "name": "python",
   "nbconvert_exporter": "python",
   "pygments_lexer": "ipython3",
   "version": "3.10.13"
  }
 },
 "nbformat": 4,
 "nbformat_minor": 5
}
